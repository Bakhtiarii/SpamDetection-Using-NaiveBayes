{
  "nbformat": 4,
  "nbformat_minor": 0,
  "metadata": {
    "colab": {
      "name": "Sentimental_LIAR_Dataset.ipynb",
      "provenance": [],
      "collapsed_sections": []
    },
    "kernelspec": {
      "name": "python3",
      "display_name": "Python 3"
    },
    "language_info": {
      "name": "python"
    }
  },
  "cells": [
    {
      "cell_type": "markdown",
      "source": [
        "**Importing packages**"
      ],
      "metadata": {
        "id": "LQbBv2hmjV7y"
      }
    },
    {
      "cell_type": "code",
      "source": [
        "import pandas as pd\n",
        "from sklearn.model_selection import train_test_split\n",
        "from sklearn.feature_extraction.text import CountVectorizer\n",
        "from sklearn.naive_bayes import MultinomialNB\n",
        "from sklearn import metrics"
      ],
      "metadata": {
        "id": "PzIf4XU7jRp6"
      },
      "execution_count": 98,
      "outputs": []
    },
    {
      "cell_type": "markdown",
      "source": [
        "**Reading the dataset**"
      ],
      "metadata": {
        "id": "JONo6KMRjmCv"
      }
    },
    {
      "cell_type": "code",
      "source": [
        "features = ['Unnamed: 0' , 'Unnamed: 0.1' , 'Unnamed: 0.1.1' , 'Unnamed: 0.1.1.1' , 'Unnamed: 0.1.1.1.1' , 'ID' , 'label' , 'statement' , 'subject' , 'speaker' , 'speaker_job' , 'state_info' , 'party_affiliation' , 'barely_true_counts' , 'false_counts' , 'half_true_counts' , 'mostly_true_counts' , 'pants_on_fire_counts' , 'context' , 'sentiment' , 'sentiment_score' , 'sentiment_magnitude' , 'anger' , 'fear' , 'joy' , 'disgust' , 'sad' , 'speaker_id' , 'list' , 'sentiment_code']\n",
        "path_train = 'train_final.csv'\n",
        "Train_Data = pd.read_csv(path_train, usecols = features)\n",
        "path_test = 'test_final.csv'\n",
        "Test_Data = pd.read_csv(path_test, usecols = features)\n",
        "# convert label to a numerical variable (# false equal to 0 , true equal to 1)\n",
        "Train_Data['label_num'] = Train_Data.label.map({'half-true':1, 'false':0, 'mostly-true':1, 'true':1, 'barely-true':0, 'pants-fire':0})\n",
        "Test_Data['label_num'] = Test_Data.label.map({'half-true':1, 'false':0, 'mostly-true':1, 'true':1, 'barely-true':0, 'pants-fire':0})\n",
        "# how to define X and y (from the SMS data) for use with COUNTVECTORIZER\n",
        "X_train = Train_Data.statement\n",
        "y_train = Train_Data.label_num\n",
        "X_test = Test_Data.statement\n",
        "y_test = Test_Data.label_num"
      ],
      "metadata": {
        "id": "Z4B4Jq9CVKa_"
      },
      "execution_count": 99,
      "outputs": []
    },
    {
      "cell_type": "markdown",
      "source": [
        "**Vectorizing our dataset**"
      ],
      "metadata": {
        "id": "Pb0dheOxkgto"
      }
    },
    {
      "cell_type": "code",
      "source": [
        "# instantiate the vectorizer\n",
        "vect = CountVectorizer()\n",
        "# fit and transform training data\n",
        "X_train_dtm = vect.fit_transform(X_train)\n",
        "# transform testing data (using fitted vocabulary) into a document-term matrix\n",
        "X_test_dtm = vect.transform(X_test)"
      ],
      "metadata": {
        "id": "yZG7H5HfVux8"
      },
      "execution_count": 100,
      "outputs": []
    },
    {
      "cell_type": "markdown",
      "source": [
        "**Building a model**"
      ],
      "metadata": {
        "id": "pyzjFN7ekwpz"
      }
    },
    {
      "cell_type": "code",
      "source": [
        "# instantiate a Multinomial Naive Bayes model\n",
        "nb = MultinomialNB()\n",
        "# train the model \n",
        "%time nb.fit(X_train_dtm, y_train)\n",
        "# make class predictions for X_test_dtm\n",
        "y_pred_class = nb.predict(X_test_dtm)"
      ],
      "metadata": {
        "colab": {
          "base_uri": "https://localhost:8080/"
        },
        "id": "RulQzuHMks07",
        "outputId": "69b58ccc-7949-42a4-9857-0b8493c76aba"
      },
      "execution_count": 101,
      "outputs": [
        {
          "output_type": "stream",
          "name": "stdout",
          "text": [
            "CPU times: user 7.56 ms, sys: 0 ns, total: 7.56 ms\n",
            "Wall time: 10.2 ms\n"
          ]
        }
      ]
    },
    {
      "cell_type": "markdown",
      "source": [
        "**Evaluating the model**"
      ],
      "metadata": {
        "id": "E60WvnQsjJwh"
      }
    },
    {
      "cell_type": "code",
      "source": [
        "# calculate : Accuracy , Recall , Precision , F1 measure\n",
        "confusion_matrix = metrics.confusion_matrix(y_test, y_pred_class)\n",
        "Precision = confusion_matrix[0][0]/(confusion_matrix[0][0]+confusion_matrix[0][1])\n",
        "Recall = confusion_matrix[0][0]/(confusion_matrix[0][0]+confusion_matrix[1][0])\n",
        "Accuracy = (confusion_matrix[0][0]+confusion_matrix[1][1])/(confusion_matrix[0][0]+confusion_matrix[1][0]+confusion_matrix[0][1]+confusion_matrix[1][1])\n",
        "F1_measure = (2*Precision*Recall)/(Recall+Precision)\n",
        "# Print : Confusion matrix , Accuracy , Recall , Precision , F1 measure\n",
        "print(\"Confusion matrix is = \\n\",confusion_matrix,\"\\n\",\"----------\")\n",
        "print(\"Accuracy is = \\n\",100*Accuracy,\" %\",\"\\n\",\"----------\")\n",
        "print(\"Recall is = \\n\",Recall,\"\\n\",\"----------\")\n",
        "print(\"Precision is = \\n\",Precision,\"\\n\",\"----------\")\n",
        "print(\"F1 measure is = \\n\",F1_measure)"
      ],
      "metadata": {
        "colab": {
          "base_uri": "https://localhost:8080/"
        },
        "id": "6xrSNf6nWWFZ",
        "outputId": "1312370e-e747-45e0-ebb7-ad6101cc5c98"
      },
      "execution_count": 102,
      "outputs": [
        {
          "output_type": "stream",
          "name": "stdout",
          "text": [
            "Confusion matrix is = \n",
            " [[263 290]\n",
            " [202 512]] \n",
            " ----------\n",
            "Accuracy is = \n",
            " 61.16811365430151  % \n",
            " ----------\n",
            "Recall is = \n",
            " 0.5655913978494623 \n",
            " ----------\n",
            "Precision is = \n",
            " 0.4755877034358047 \n",
            " ----------\n",
            "F1 measure is = \n",
            " 0.5166994106090373\n"
          ]
        }
      ]
    },
    {
      "cell_type": "code",
      "source": [
        ""
      ],
      "metadata": {
        "id": "-VIbX3VrjKb6"
      },
      "execution_count": null,
      "outputs": []
    }
  ]
}