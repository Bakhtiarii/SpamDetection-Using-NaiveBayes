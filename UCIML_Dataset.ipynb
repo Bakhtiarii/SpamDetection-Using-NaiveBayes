{
  "nbformat": 4,
  "nbformat_minor": 0,
  "metadata": {
    "colab": {
      "name": "UCIML_Dataset.ipynb",
      "provenance": [],
      "collapsed_sections": []
    },
    "kernelspec": {
      "name": "python3",
      "display_name": "Python 3"
    },
    "language_info": {
      "name": "python"
    }
  },
  "cells": [
    {
      "cell_type": "markdown",
      "source": [
        "**Importing packages**"
      ],
      "metadata": {
        "id": "Mv2Jx9IJGLlc"
      }
    },
    {
      "cell_type": "code",
      "source": [
        "import pandas as pd\n",
        "from sklearn.model_selection import train_test_split\n",
        "from sklearn.feature_extraction.text import CountVectorizer\n",
        "from sklearn.naive_bayes import MultinomialNB\n",
        "from sklearn import metrics"
      ],
      "metadata": {
        "id": "OpEosYygzhsc"
      },
      "execution_count": 33,
      "outputs": []
    },
    {
      "cell_type": "markdown",
      "source": [
        "**Reading the dataset**"
      ],
      "metadata": {
        "id": "vqkCl0v_5Sl6"
      }
    },
    {
      "cell_type": "code",
      "execution_count": 34,
      "metadata": {
        "id": "Ztta4WoWzL2T"
      },
      "outputs": [],
      "source": [
        "path = 'SMSSpamCollection'\n",
        "features = ['label', 'message']\n",
        "sms = pd.read_table(path, header=None, names=features)\n",
        "# ham equal to 0 , spam equal to 1\n",
        "sms['label_num'] = sms.label.map({'ham':0, 'spam':1})\n",
        "# how to define X and y (from the SMS data) for use with COUNTVECTORIZER\n",
        "X = sms.message\n",
        "y = sms.label_num\n",
        "# split X and y into training and testing sets (allocating 80% of data to train data)\n",
        "X_train, X_test, y_train, y_test = train_test_split(X, y, test_size=0.8,random_state=1)"
      ]
    },
    {
      "cell_type": "markdown",
      "source": [
        "**Vectorizing our dataset**"
      ],
      "metadata": {
        "id": "K5ltAlek7lqb"
      }
    },
    {
      "cell_type": "code",
      "source": [
        "# instantiate the vectorizer\n",
        "vect = CountVectorizer()\n",
        "# fit and transform training data\n",
        "X_train_dtm = vect.fit_transform(X_train)\n",
        "# transform testing data (using fitted vocabulary) into a document-term matrix\n",
        "X_test_dtm = vect.transform(X_test)"
      ],
      "metadata": {
        "id": "-u2f_oDI17T-"
      },
      "execution_count": 35,
      "outputs": []
    },
    {
      "cell_type": "markdown",
      "source": [
        "**Building a model**"
      ],
      "metadata": {
        "id": "eVh9WYwL8ZVQ"
      }
    },
    {
      "cell_type": "code",
      "source": [
        "# instantiate a Multinomial Naive Bayes model\n",
        "nb = MultinomialNB()\n",
        "# train the model \n",
        "%time nb.fit(X_train_dtm, y_train)\n",
        "# make class predictions for X_test_dtm\n",
        "y_pred_class = nb.predict(X_test_dtm)"
      ],
      "metadata": {
        "colab": {
          "base_uri": "https://localhost:8080/"
        },
        "id": "_bJtZ5A02CLH",
        "outputId": "5f1df3ac-d007-45e8-f188-c893ad495a20"
      },
      "execution_count": 36,
      "outputs": [
        {
          "output_type": "stream",
          "name": "stdout",
          "text": [
            "CPU times: user 1.76 ms, sys: 1.05 ms, total: 2.8 ms\n",
            "Wall time: 2.86 ms\n"
          ]
        }
      ]
    },
    {
      "cell_type": "markdown",
      "source": [
        "**Evaluating the model**"
      ],
      "metadata": {
        "id": "26yMawf_JmS6"
      }
    },
    {
      "cell_type": "code",
      "source": [
        "# calculate : Accuracy , Recall , Precision , F1 measure\n",
        "confusion_matrix = metrics.confusion_matrix(y_test, y_pred_class)\n",
        "Precision = confusion_matrix[0][0]/(confusion_matrix[0][0]+confusion_matrix[0][1])\n",
        "Recall = confusion_matrix[0][0]/(confusion_matrix[0][0]+confusion_matrix[1][0])\n",
        "Accuracy = (confusion_matrix[0][0]+confusion_matrix[1][1])/(confusion_matrix[0][0]+confusion_matrix[1][0]+confusion_matrix[0][1]+confusion_matrix[1][1])\n",
        "F1_measure = (2*Precision*Recall)/(Recall+Precision)\n",
        "# Print : Confusion matrix , Accuracy , Recall , Precision , F1 measure\n",
        "print(\"Confusion matrix is = \\n\",confusion_matrix,\"\\n\",\"----------\")\n",
        "print(\"Accuracy is = \\n\",100*Accuracy,\" %\",\"\\n\",\"----------\")\n",
        "print(\"Recall is = \\n\",Recall,\"\\n\",\"----------\")\n",
        "print(\"Precision is = \\n\",Precision,\"\\n\",\"----------\")\n",
        "print(\"F1 measure is = \\n\",F1_measure)"
      ],
      "metadata": {
        "colab": {
          "base_uri": "https://localhost:8080/"
        },
        "id": "FN3E4L8T2Pt0",
        "outputId": "27ac84c4-0791-449b-8634-c6726bfb0f68"
      },
      "execution_count": 37,
      "outputs": [
        {
          "output_type": "stream",
          "name": "stdout",
          "text": [
            "Confusion matrix is = \n",
            " [[3840   18]\n",
            " [  89  511]] \n",
            " ----------\n",
            "Accuracy is = \n",
            " 97.59982054733064  % \n",
            " ----------\n",
            "Recall is = \n",
            " 0.9773479256808348 \n",
            " ----------\n",
            "Precision is = \n",
            " 0.995334370139969 \n",
            " ----------\n",
            "F1 measure is = \n",
            " 0.98625914986516\n"
          ]
        }
      ]
    },
    {
      "cell_type": "code",
      "source": [
        "# false positives that ham incorrectly classified as spam\n",
        "X_test[y_pred_class > y_test]"
      ],
      "metadata": {
        "colab": {
          "base_uri": "https://localhost:8080/"
        },
        "id": "XreDfs9RDUwt",
        "outputId": "daef90f3-86d8-4a16-d50a-12363c411fe8"
      },
      "execution_count": 42,
      "outputs": [
        {
          "output_type": "execute_result",
          "data": {
            "text/plain": [
              "574                                Waiting for your call.\n",
              "3375                              Also andros ice etc etc\n",
              "1729    As per your request 'Maangalyam (Alaipayuthe)'...\n",
              "216     Finally the match heading towards draw as your...\n",
              "4557                              Gettin rdy to ship comp\n",
              "4490             The new deus ex game comin early next yr\n",
              "7       As per your request 'Melle Melle (Oru Minnamin...\n",
              "1672                              Glad to see your reply.\n",
              "4382               Mathews or tait or edwards or anderson\n",
              "154     As per your request 'Melle Melle (Oru Minnamin...\n",
              "1082                    Can u get pic msgs to your phone?\n",
              "2173     Yavnt tried yet and never played original either\n",
              "1506    Total video converter free download type this ...\n",
              "103     As per your request 'Melle Melle (Oru Minnamin...\n",
              "3649    As per your request 'Maangalyam (Alaipayuthe)'...\n",
              "4600              Have you laid your airtel line to rest?\n",
              "3728        Aldrine, rakhesh ex RTM here.pls call.urgent.\n",
              "1290    Hey...Great deal...Farm tour 9am to 5pm $95/pa...\n",
              "Name: message, dtype: object"
            ]
          },
          "metadata": {},
          "execution_count": 42
        }
      ]
    },
    {
      "cell_type": "code",
      "source": [
        "# false negatives that spam incorrectly classified as ham\n",
        "X_test[y_pred_class < y_test]"
      ],
      "metadata": {
        "colab": {
          "base_uri": "https://localhost:8080/"
        },
        "id": "u9O4c3oFL2wB",
        "outputId": "024befb0-ee29-479e-ae02-de9ccda4f195"
      },
      "execution_count": 43,
      "outputs": [
        {
          "output_type": "execute_result",
          "data": {
            "text/plain": [
              "1217    You have 1 new voicemail. Please call 08719181...\n",
              "881     Reminder: You have not downloaded the content ...\n",
              "3132    LookAtMe!: Thanks for your purchase of a video...\n",
              "2295     You have 1 new message. Please call 08718738034.\n",
              "420     Send a logo 2 ur lover - 2 names joined by a h...\n",
              "                              ...                        \n",
              "1252    Please CALL 08712402779 immediately as there i...\n",
              "815     U were outbid by simonwatson5120 on the Shinco...\n",
              "1699    Free msg. Sorry, a service you ordered from 81...\n",
              "3360    Sorry I missed your call let's talk when you h...\n",
              "4311    Someone U know has asked our dating service 2 ...\n",
              "Name: message, Length: 89, dtype: object"
            ]
          },
          "metadata": {},
          "execution_count": 43
        }
      ]
    },
    {
      "cell_type": "code",
      "source": [
        ""
      ],
      "metadata": {
        "id": "Ky4e0LlML93A"
      },
      "execution_count": null,
      "outputs": []
    }
  ]
}